{
 "cells": [
  {
   "cell_type": "markdown",
   "id": "85fb2c03-ab88-4c8c-97e3-a7f2954555ab",
   "metadata": {},
   "source": [
    "# OpenAPI agents\n",
    "\n",
    "We can construct agents to consume arbitrary APIs, here APIs conformant to the OpenAPI/Swagger specification."
   ]
  },
  {
   "cell_type": "markdown",
   "id": "461229e4",
   "metadata": {},
   "source": [
    "## 1st example: \"json explorer\" agent\n",
    "\n",
    "Here's an agent that's not particularly practical, but neat! The agent has access to 2 toolkits. One comprises tools to interact with json: one tool to list the keys of a json object and another tool to get the value for a given key. The other toolkit comprises `requests` wrappers to send GET and POST requests. This agent consumes a lot calls to the language model, but does a surprisingly decent job.\n",
    "\n",
    "Here's an example interacting with OpenAI's OpenAPI spec 😝."
   ]
  },
  {
   "cell_type": "code",
   "execution_count": 1,
   "id": "f8dfa1d3",
   "metadata": {},
   "outputs": [],
   "source": [
    "import os\n",
    "import yaml\n",
    "from langchain.agents import create_openapi_agent\n",
    "from langchain.agents.agent_toolkits import OpenAPIToolkit\n",
    "from langchain.llms.openai import OpenAI\n",
    "from langchain.requests import RequestsWrapper\n",
    "from langchain.tools.json.tool import JsonSpec"
   ]
  },
  {
   "cell_type": "code",
   "execution_count": 2,
   "id": "9ecd1ba0-3937-4359-a41e-68605f0596a1",
   "metadata": {
    "tags": []
   },
   "outputs": [],
   "source": [
    "with open(\"openai_openapi.yml\") as f:\n",
    "    data = yaml.load(f, Loader=yaml.FullLoader)\n",
    "json_spec=JsonSpec(dict_=data, max_value_length=4000)\n",
    "headers = {\n",
    "    \"Authorization\": f\"Bearer {os.getenv('OPENAI_API_KEY')}\"\n",
    "}\n",
    "requests_wrapper=RequestsWrapper(headers=headers)\n",
    "openapi_toolkit = OpenAPIToolkit.from_llm(OpenAI(temperature=0), json_spec, requests_wrapper, verbose=True)\n",
    "openapi_agent_executor = create_openapi_agent(\n",
    "    llm=OpenAI(temperature=0),\n",
    "    toolkit=openapi_toolkit,\n",
    "    verbose=True\n",
    ")"
   ]
  },
  {
   "cell_type": "code",
   "execution_count": 3,
   "id": "548db7f7-337b-4ba8-905c-e7fd58c01799",
   "metadata": {
    "tags": []
   },
   "outputs": [
    {
     "name": "stdout",
     "output_type": "stream",
     "text": [
      "\n",
      "\n",
      "\u001b[1m> Entering new AgentExecutor chain...\u001b[0m\n",
      "\u001b[32;1m\u001b[1;3mAction: json_explorer\n",
      "Action Input: What is the base url for the API?\u001b[0m\n",
      "\n",
      "\u001b[1m> Entering new AgentExecutor chain...\u001b[0m\n",
      "\u001b[32;1m\u001b[1;3mAction: json_spec_list_keys\n",
      "Action Input: data\u001b[0m\n",
      "Observation: \u001b[36;1m\u001b[1;3m['openapi', 'info', 'servers', 'tags', 'paths', 'components', 'x-oaiMeta']\u001b[0m\n",
      "Thought:\u001b[32;1m\u001b[1;3m I should look at the servers key to see what the base url is\n",
      "Action: json_spec_list_keys\n",
      "Action Input: data[\"servers\"][0]\u001b[0m\n",
      "Observation: \u001b[36;1m\u001b[1;3mValueError('Value at path `data[\"servers\"][0]` is not a dict, get the value directly.')\u001b[0m\n",
      "Thought:\u001b[32;1m\u001b[1;3m I should get the value of the servers key\n",
      "Action: json_spec_get_value\n",
      "Action Input: data[\"servers\"][0]\u001b[0m\n",
      "Observation: \u001b[33;1m\u001b[1;3m{'url': 'https://api.openai.com/v1'}\u001b[0m\n",
      "Thought:\u001b[32;1m\u001b[1;3m I now know the base url for the API\n",
      "Final Answer: The base url for the API is https://api.openai.com/v1\u001b[0m\n",
      "\n",
      "\u001b[1m> Finished chain.\u001b[0m\n",
      "\n",
      "Observation: \u001b[33;1m\u001b[1;3mThe base url for the API is https://api.openai.com/v1\u001b[0m\n",
      "Thought:\u001b[32;1m\u001b[1;3m I should find the path for the /completions endpoint.\n",
      "Action: json_explorer\n",
      "Action Input: What is the path for the /completions endpoint?\u001b[0m\n",
      "\n",
      "\u001b[1m> Entering new AgentExecutor chain...\u001b[0m\n",
      "\u001b[32;1m\u001b[1;3mAction: json_spec_list_keys\n",
      "Action Input: data\u001b[0m\n",
      "Observation: \u001b[36;1m\u001b[1;3m['openapi', 'info', 'servers', 'tags', 'paths', 'components', 'x-oaiMeta']\u001b[0m\n",
      "Thought:\u001b[32;1m\u001b[1;3m I should look at the paths key to see what endpoints exist\n",
      "Action: json_spec_list_keys\n",
      "Action Input: data[\"paths\"]\u001b[0m\n",
      "Observation: \u001b[36;1m\u001b[1;3m['/engines', '/engines/{engine_id}', '/completions', '/edits', '/images/generations', '/images/edits', '/images/variations', '/embeddings', '/engines/{engine_id}/search', '/files', '/files/{file_id}', '/files/{file_id}/content', '/answers', '/classifications', '/fine-tunes', '/fine-tunes/{fine_tune_id}', '/fine-tunes/{fine_tune_id}/cancel', '/fine-tunes/{fine_tune_id}/events', '/models', '/models/{model}', '/moderations']\u001b[0m\n",
      "Thought:\u001b[32;1m\u001b[1;3m I now know the path for the /completions endpoint\n",
      "Final Answer: data[\"paths\"][2]\u001b[0m\n",
      "\n",
      "\u001b[1m> Finished chain.\u001b[0m\n",
      "\n",
      "Observation: \u001b[33;1m\u001b[1;3mdata[\"paths\"][2]\u001b[0m\n",
      "Thought:\u001b[32;1m\u001b[1;3m I should find the required parameters for the POST request.\n",
      "Action: json_explorer\n",
      "Action Input: What are the required parameters for a POST request to the /completions endpoint?\u001b[0m\n",
      "\n",
      "\u001b[1m> Entering new AgentExecutor chain...\u001b[0m\n",
      "\u001b[32;1m\u001b[1;3mAction: json_spec_list_keys\n",
      "Action Input: data\u001b[0m\n",
      "Observation: \u001b[36;1m\u001b[1;3m['openapi', 'info', 'servers', 'tags', 'paths', 'components', 'x-oaiMeta']\u001b[0m\n",
      "Thought:\u001b[32;1m\u001b[1;3m I should look at the paths key to see what endpoints exist\n",
      "Action: json_spec_list_keys\n",
      "Action Input: data[\"paths\"]\u001b[0m\n",
      "Observation: \u001b[36;1m\u001b[1;3m['/engines', '/engines/{engine_id}', '/completions', '/edits', '/images/generations', '/images/edits', '/images/variations', '/embeddings', '/engines/{engine_id}/search', '/files', '/files/{file_id}', '/files/{file_id}/content', '/answers', '/classifications', '/fine-tunes', '/fine-tunes/{fine_tune_id}', '/fine-tunes/{fine_tune_id}/cancel', '/fine-tunes/{fine_tune_id}/events', '/models', '/models/{model}', '/moderations']\u001b[0m\n",
      "Thought:\u001b[32;1m\u001b[1;3m I should look at the /completions endpoint to see what parameters are required\n",
      "Action: json_spec_list_keys\n",
      "Action Input: data[\"paths\"][\"/completions\"]\u001b[0m\n",
      "Observation: \u001b[36;1m\u001b[1;3m['post']\u001b[0m\n",
      "Thought:\u001b[32;1m\u001b[1;3m I should look at the post key to see what parameters are required\n",
      "Action: json_spec_list_keys\n",
      "Action Input: data[\"paths\"][\"/completions\"][\"post\"]\u001b[0m\n",
      "Observation: \u001b[36;1m\u001b[1;3m['operationId', 'tags', 'summary', 'requestBody', 'responses', 'x-oaiMeta']\u001b[0m\n",
      "Thought:\u001b[32;1m\u001b[1;3m I should look at the requestBody key to see what parameters are required\n",
      "Action: json_spec_list_keys\n",
      "Action Input: data[\"paths\"][\"/completions\"][\"post\"][\"requestBody\"]\u001b[0m\n",
      "Observation: \u001b[36;1m\u001b[1;3m['required', 'content']\u001b[0m\n",
      "Thought:\u001b[32;1m\u001b[1;3m I should look at the content key to see what parameters are required\n",
      "Action: json_spec_list_keys\n",
      "Action Input: data[\"paths\"][\"/completions\"][\"post\"][\"requestBody\"][\"content\"]\u001b[0m\n",
      "Observation: \u001b[36;1m\u001b[1;3m['application/json']\u001b[0m\n",
      "Thought:\u001b[32;1m\u001b[1;3m I should look at the application/json key to see what parameters are required\n",
      "Action: json_spec_list_keys\n",
      "Action Input: data[\"paths\"][\"/completions\"][\"post\"][\"requestBody\"][\"content\"][\"application/json\"]\u001b[0m\n",
      "Observation: \u001b[36;1m\u001b[1;3m['schema']\u001b[0m\n",
      "Thought:\u001b[32;1m\u001b[1;3m I should look at the schema key to see what parameters are required\n",
      "Action: json_spec_list_keys\n",
      "Action Input: data[\"paths\"][\"/completions\"][\"post\"][\"requestBody\"][\"content\"][\"application/json\"][\"schema\"]\u001b[0m\n",
      "Observation: \u001b[36;1m\u001b[1;3m['$ref']\u001b[0m\n",
      "Thought:\u001b[32;1m\u001b[1;3m I should look at the $ref key to see what parameters are required\n",
      "Action: json_spec_list_keys\n",
      "Action Input: data[\"paths\"][\"/completions\"][\"post\"][\"requestBody\"][\"content\"][\"application/json\"][\"schema\"][\"$ref\"]\u001b[0m\n",
      "Observation: \u001b[36;1m\u001b[1;3mValueError('Value at path `data[\"paths\"][\"/completions\"][\"post\"][\"requestBody\"][\"content\"][\"application/json\"][\"schema\"][\"$ref\"]` is not a dict, get the value directly.')\u001b[0m\n",
      "Thought:\u001b[32;1m\u001b[1;3m I should look at the $ref key to get the value directly\n",
      "Action: json_spec_get_value\n",
      "Action Input: data[\"paths\"][\"/completions\"][\"post\"][\"requestBody\"][\"content\"][\"application/json\"][\"schema\"][\"$ref\"]\u001b[0m\n",
      "Observation: \u001b[33;1m\u001b[1;3m#/components/schemas/CreateCompletionRequest\u001b[0m\n",
      "Thought:\u001b[32;1m\u001b[1;3m I should look at the CreateCompletionRequest schema to see what parameters are required\n",
      "Action: json_spec_list_keys\n",
      "Action Input: data[\"components\"][\"schemas\"][\"CreateCompletionRequest\"]\u001b[0m\n",
      "Observation: \u001b[36;1m\u001b[1;3m['type', 'properties', 'required']\u001b[0m\n",
      "Thought:\u001b[32;1m\u001b[1;3m I should look at the required key to see what parameters are required\n",
      "Action: json_spec_get_value\n",
      "Action Input: data[\"components\"][\"schemas\"][\"CreateCompletionRequest\"][\"required\"]\u001b[0m\n",
      "Observation: \u001b[33;1m\u001b[1;3m['model']\u001b[0m\n",
      "Thought:\u001b[32;1m\u001b[1;3m I now know the final answer\n",
      "Final Answer: The required parameters for a POST request to the /completions endpoint are 'model'.\u001b[0m\n",
      "\n",
      "\u001b[1m> Finished chain.\u001b[0m\n",
      "\n",
      "Observation: \u001b[33;1m\u001b[1;3mThe required parameters for a POST request to the /completions endpoint are 'model'.\u001b[0m\n",
      "Thought:\u001b[32;1m\u001b[1;3m I now know the parameters needed to make the request.\n",
      "Action: requests_post\n",
      "Action Input: { \"url\": \"https://api.openai.com/v1/completions\", \"data\": { \"model\": \"davinci\", \"prompt\": \"tell me a joke\" } }\u001b[0m\n",
      "Observation: \u001b[33;1m\u001b[1;3m{\"id\":\"cmpl-6zzlQk2P9UaB6U0N0Qn8Fvy4DHkKw\",\"object\":\"text_completion\",\"created\":1680233448,\"model\":\"davinci\",\"choices\":[{\"text\":\"?\\\" more to fill the air than anything else and was pleasantly surprised ... maybe the\",\"index\":0,\"logprobs\":null,\"finish_reason\":\"length\"}],\"usage\":{\"prompt_tokens\":4,\"completion_tokens\":16,\"total_tokens\":20}}\n",
      "\u001b[0m\n",
      "Thought:\u001b[32;1m\u001b[1;3m I now know the final answer.\n",
      "Final Answer: The response of the POST request to the /completions endpoint with the prompt 'tell me a joke' is {\"id\":\"cmpl-6zzlQk2P9UaB6U0N0Qn8Fvy4DHkKw\",\"object\":\"text_completion\",\"created\":1680233448,\"model\":\"davinci\",\"choices\":[{\"text\":\"?\\\" more to fill the air than anything else and was pleasantly surprised ... maybe the\",\"index\":0,\"logprobs\":null,\"finish_reason\":\"length\"}],\"usage\":{\"prompt_tokens\":4,\"completion_tokens\":16,\"total_tokens\":20}}.\u001b[0m\n",
      "\n",
      "\u001b[1m> Finished chain.\u001b[0m\n"
     ]
    },
    {
     "data": {
      "text/plain": [
       "'The response of the POST request to the /completions endpoint with the prompt \\'tell me a joke\\' is {\"id\":\"cmpl-6zzlQk2P9UaB6U0N0Qn8Fvy4DHkKw\",\"object\":\"text_completion\",\"created\":1680233448,\"model\":\"davinci\",\"choices\":[{\"text\":\"?\\\\\" more to fill the air than anything else and was pleasantly surprised ... maybe the\",\"index\":0,\"logprobs\":null,\"finish_reason\":\"length\"}],\"usage\":{\"prompt_tokens\":4,\"completion_tokens\":16,\"total_tokens\":20}}.'"
      ]
     },
     "execution_count": 3,
     "metadata": {},
     "output_type": "execute_result"
    }
   ],
   "source": [
    "openapi_agent_executor.run(\"Make a post request to openai /completions. The prompt should be 'tell me a joke.'\")"
   ]
  },
  {
   "cell_type": "markdown",
   "id": "a389367b",
   "metadata": {},
   "source": [
    "## 2nd example: hierarchical planning agent\n",
    "\n",
    "- In this example, we'll consider a more principle approach called hierarchical planning, common in robotics and appearing in recent works for LLMs X robotics.\n",
    "- We'll see it allows us to work with a massive API spec AND to assist with user queries that require multiple steps against the API.\n",
    "- To get better results + to save on tokens, we'll separate concerns: a \"planner\" will be responsible for what endpoints to call and a \"controller\" will be responsible for how to call them.\n",
    "- In the initial implementation, the planner is an LLM chain that has the name and a short description for each endpoint in context. The controller is an LLM agent that is instantiated with documentation for only the endpoints for a particular plan."
   ]
  },
  {
   "cell_type": "markdown",
   "id": "ba833d49",
   "metadata": {},
   "source": [
    "---\n",
    "\n",
    "We'll work with the Spotify API. There's a bit of auth-related setup to do if you want to replicate this.\n",
    "\n",
    "- You'll have to set up an application in the Spotify developer console, documented [here](https://developer.spotify.com/documentation/general/guides/authorization/), to get credentials: `CLIENT_ID`, `CLIENT_SECRET`, and `REDIRECT_URI`.\n",
    "- To get an access tokens (and keep them fresh), you can implement the oauth flows, or you can use `spotipy`. If you've set your Spotify creedentials as environment variables `SPOTIPY_CLIENT_ID`, `SPOTIPY_CLIENT_SECRET`, and `SPOTIPY_REDIRECT_URI`, you can use the helper functions below:"
   ]
  },
  {
   "cell_type": "code",
   "execution_count": 4,
   "id": "a82c2cfa",
   "metadata": {},
   "outputs": [],
   "source": [
    "import os, yaml, subprocess\n",
    "import spotipy.util as util\n",
    "\n",
    "SPOTIFY_API_SPEC_URL = \"https://raw.githubusercontent.com/APIs-guru/openapi-directory/main/APIs/spotify.com/1.0.0/openapi.yaml\"\n",
    "\n",
    "def fetch_spotify_api_spec():    \n",
    "    if not os.path.exists('./openapi.yaml'):\n",
    "        subprocess.run([\"wget\", SPOTIFY_API_SPEC_URL])\n",
    "    with open(\"./openapi.yaml\", \"r\") as f:\n",
    "        spec = yaml.load(f, Loader=yaml.Loader)\n",
    "    return spec\n",
    "\n",
    "def construct_spotify_auth_headers(raw_spec: dict):\n",
    "    scopes = list(raw_spec['components']['securitySchemes']['oauth_2_0']['flows']['authorizationCode']['scopes'].keys())\n",
    "    access_token = util.prompt_for_user_token(scope=','.join(scopes))\n",
    "    return {\n",
    "        'Authorization': f'Bearer {access_token}'\n",
    "    }"
   ]
  },
  {
   "cell_type": "code",
   "execution_count": 5,
   "id": "8b9de30a",
   "metadata": {},
   "outputs": [],
   "source": [
    "# Get the API spec.\n",
    "from langchain.agents.agent_toolkits.openapi.spec import reduce_openapi_spec\n",
    "raw_spotify_api_spec = fetch_spotify_api_spec()\n",
    "spotify_api_spec = reduce_openapi_spec(raw_spotify_api_spec, dereference=False)"
   ]
  },
  {
   "cell_type": "code",
   "execution_count": 6,
   "id": "a800fcb1",
   "metadata": {},
   "outputs": [],
   "source": [
    "# Get API credentials.\n",
    "from langchain.requests import RequestsWrapper\n",
    "headers = construct_spotify_auth_headers(raw_spotify_api_spec)\n",
    "requests_wrapper = RequestsWrapper(headers=headers)"
   ]
  },
  {
   "cell_type": "markdown",
   "id": "76349780",
   "metadata": {},
   "source": [
    "#### How big is this spec?"
   ]
  },
  {
   "cell_type": "code",
   "execution_count": 7,
   "id": "2a93271e",
   "metadata": {},
   "outputs": [
    {
     "data": {
      "text/plain": [
       "63"
      ]
     },
     "execution_count": 7,
     "metadata": {},
     "output_type": "execute_result"
    }
   ],
   "source": [
    "endpoints = [\n",
    "    (route, operation)\n",
    "    for route, operations in raw_spotify_api_spec[\"paths\"].items()\n",
    "    for operation in operations\n",
    "    if operation in [\"get\", \"post\"]\n",
    "]\n",
    "len(endpoints)"
   ]
  },
  {
   "cell_type": "code",
   "execution_count": 8,
   "id": "eb829190",
   "metadata": {},
   "outputs": [
    {
     "data": {
      "text/plain": [
       "80326"
      ]
     },
     "execution_count": 8,
     "metadata": {},
     "output_type": "execute_result"
    }
   ],
   "source": [
    "import tiktoken\n",
    "enc = tiktoken.encoding_for_model('text-davinci-003')\n",
    "def count_tokens(s): return len(enc.encode(s))\n",
    "\n",
    "count_tokens(yaml.dump(raw_spotify_api_spec))"
   ]
  },
  {
   "cell_type": "markdown",
   "id": "cbc4964e",
   "metadata": {},
   "source": [
    "#### Let's see some examples!\n",
    "\n",
    "Starting with GPT-4. (Some robustness iterations under way for GPT-3 family.)"
   ]
  },
  {
   "cell_type": "code",
   "execution_count": 10,
   "id": "38762cc0",
   "metadata": {
    "scrolled": false
   },
   "outputs": [
    {
     "name": "stdout",
     "output_type": "stream",
     "text": [
      "\n",
      "\n",
      "\u001b[1m> Entering new AgentExecutor chain...\u001b[0m\n",
      "\u001b[32;1m\u001b[1;3mAction: api_planner\n",
      "Action Input: I need to find the right API calls to create a playlist with the first song from Kind of Blue and name it Machine Blues\u001b[0m\n",
      "Observation: \u001b[36;1m\u001b[1;3m1. GET /search to find the album ID for Kind of Blue.\n",
      "2. GET /albums/{id}/tracks to get the tracks from the album and retrieve the ID of the first song.\n",
      "3. GET /me to get the current user's ID.\n",
      "4. POST /users/{user_id}/playlists to create a new playlist named \"Machine Blues\" for the current user.\n",
      "5. POST /playlists/{playlist_id}/tracks to add the first song from Kind of Blue to the newly created playlist.\u001b[0m\n",
      "Thought:\u001b[32;1m\u001b[1;3mI'm ready to execute the API calls.\n",
      "Action: api_controller\n",
      "Action Input: 1. GET /search to find the album ID for Kind of Blue.\n",
      "2. GET /albums/{id}/tracks to get the tracks from the album and retrieve the ID of the first song.\n",
      "3. GET /me to get the current user's ID.\n",
      "4. POST /users/{user_id}/playlists to create a new playlist named \"Machine Blues\" for the current user.\n",
      "5. POST /playlists/{playlist_id}/tracks to add the first song from Kind of Blue to the newly created playlist.\u001b[0m\n",
      "\n",
      "\u001b[1m> Entering new AgentExecutor chain...\u001b[0m\n",
      "\u001b[32;1m\u001b[1;3mAction: requests_get\n",
      "Action Input: {\"url\": \"https://api.spotify.com/v1/search?q=album:Kind%20of%20Blue%20artist:Miles%20Davis&type=album\", \"output_instructions\": \"Extract the id of the first album in the search results\"}\u001b[0m\n",
      "Observation: \u001b[36;1m\u001b[1;3m1weenld61qoidwYuZ1GESA\u001b[0m\n",
      "Thought:\u001b[32;1m\u001b[1;3mAction: requests_get\n",
      "Action Input: {\"url\": \"https://api.spotify.com/v1/albums/1weenld61qoidwYuZ1GESA/tracks\", \"output_instructions\": \"Extract the id of the first track in the album\"}\u001b[0m\n",
      "Observation: \u001b[36;1m\u001b[1;3m7q3kkfAVpmcZ8g6JUThi3o\u001b[0m\n",
      "Thought:\u001b[32;1m\u001b[1;3mAction: requests_get\n",
      "Action Input: {\"url\": \"https://api.spotify.com/v1/me\", \"output_instructions\": \"Extract the id of the current user\"}\u001b[0m\n",
      "Observation: \u001b[36;1m\u001b[1;3m22rhrz4m4kvpxlsb5hezokzwi\u001b[0m\n",
      "Thought:\u001b[32;1m\u001b[1;3mAction: requests_post\n",
      "Action Input: {\"url\": \"https://api.spotify.com/v1/users/22rhrz4m4kvpxlsb5hezokzwi/playlists\", \"data\": {\"name\": \"Machine Blues\"}, \"output_instructions\": \"Extract the id of the newly created playlist\"}\u001b[0m\n",
      "Observation: \u001b[33;1m\u001b[1;3m6ytnnKMW4OMfz0r7OvJd84\u001b[0m\n",
      "Thought:\u001b[32;1m\u001b[1;3mAction: requests_post\n",
      "Action Input: {\"url\": \"https://api.spotify.com/v1/playlists/6ytnnKMW4OMfz0r7OvJd84/tracks\", \"data\": {\"uris\": [\"spotify:track:7q3kkfAVpmcZ8g6JUThi3o\"]}, \"output_instructions\": \"Confirm that the track was added to the playlist\"}\u001b[0m\n",
      "Observation: \u001b[33;1m\u001b[1;3mThe track was added to the playlist (snapshot_id: MixmMTNjNjRmZTA5MjBmYjVlZjY0Yjg2YTcyZjM1ZjQ2YmYwYjY4NThj).\u001b[0m\n",
      "Thought:\u001b[32;1m\u001b[1;3mI am finished executing the plan.\n",
      "Final Answer: The first track from Kind of Blue has been added to the newly created playlist \"Machine Blues\".\u001b[0m\n",
      "\n",
      "\u001b[1m> Finished chain.\u001b[0m\n",
      "\n",
      "Observation: \u001b[33;1m\u001b[1;3mThe first track from Kind of Blue has been added to the newly created playlist \"Machine Blues\".\u001b[0m\n",
      "Thought:\u001b[32;1m\u001b[1;3mI am finished executing the plan and have created the playlist with the first song from Kind of Blue.\n",
      "Final Answer: I have created a playlist called \"Machine Blues\" with the first song from Kind of Blue. Enjoy!\u001b[0m\n",
      "\n",
      "\u001b[1m> Finished chain.\u001b[0m\n"
     ]
    },
    {
     "data": {
      "text/plain": [
       "'I have created a playlist called \"Machine Blues\" with the first song from Kind of Blue. Enjoy!'"
      ]
     },
     "execution_count": 10,
     "metadata": {},
     "output_type": "execute_result"
    }
   ],
   "source": [
    "from langchain.llms.openai import OpenAI\n",
    "from langchain.agents.agent_toolkits.openapi import planner\n",
    "\n",
    "llm = OpenAI(model_name=\"gpt-4\", temperature=0.0)\n",
    "agent = planner.create_openapi_agent(spotify_api_spec, requests_wrapper, llm)\n",
    "user_query = \"make me a playlist with the first song from kind of blue. call it machine blues.\"\n",
    "agent.run(user_query)"
   ]
  },
  {
   "cell_type": "code",
   "execution_count": 11,
   "id": "ebe2dc54",
   "metadata": {},
   "outputs": [
    {
     "name": "stdout",
     "output_type": "stream",
     "text": [
      "\n",
      "\n",
      "\u001b[1m> Entering new AgentExecutor chain...\u001b[0m\n",
      "\u001b[32;1m\u001b[1;3mAction: api_planner\n",
      "Action Input: I need to find the right API calls to get a blues song recommendation for the user\u001b[0m\n",
      "Observation: \u001b[36;1m\u001b[1;3m1. GET /recommendations/available-genre-seeds to find valid recommendation seeds and check if \"blues\" is available.\n",
      "2. GET /recommendations with the \"blues\" genre seed to find a blues song recommendation.\u001b[0m\n",
      "Thought:\u001b[32;1m\u001b[1;3mI have the plan, now I need to execute the API calls.\n",
      "Action: api_controller\n",
      "Action Input: 1. GET /recommendations/available-genre-seeds to find valid recommendation seeds and check if \"blues\" is available.\n",
      "2. GET /recommendations with the \"blues\" genre seed to find a blues song recommendation.\u001b[0m\n",
      "\n",
      "\u001b[1m> Entering new AgentExecutor chain...\u001b[0m\n",
      "\u001b[32;1m\u001b[1;3mAction: requests_get\n",
      "Action Input: {\"url\": \"https://api.spotify.com/v1/recommendations/available-genre-seeds\", \"output_instructions\": \"extract the list of available genres\"}\u001b[0m\n",
      "Observation: \u001b[36;1m\u001b[1;3macoustic, afrobeat, alt-rock, alternative, ambient, anime, black-metal, bluegrass, blues, bossanova, brazil, breakbeat, british, cantopop, chicago-house, children, chill, classical, club, comedy, country, dance, dancehall, death-metal, deep-house, detroit-techno, disco, disney, drum-and-bass, dub, dubstep, edm, electro, electronic, emo, folk, forro, french, funk, garage, german, gospel, goth, grindcore, groove, grunge, guitar, happy, hard-rock, hardcore, hardstyle, heavy-metal, hip-hop, holidays, honky-tonk, house, idm, indian, indie, indie-pop, industrial, iranian, j-dance, j-idol, j-pop, j-rock, jazz, k-pop, kids, latin, latino, malay, mandopop, metal, metal-misc, metalcore, minimal-techno, movies, mpb, new-age, new-release, opera, pagode, party, philippines-\u001b[0m\n",
      "Thought:\u001b[32;1m\u001b[1;3mSince \"blues\" is available in the list of available genres, I will proceed with the plan to get a blues song recommendation.\n",
      "\n",
      "Action: requests_get\n",
      "Action Input: {\"url\": \"https://api.spotify.com/v1/recommendations?seed_genres=blues\", \"output_instructions\": \"extract the first track's name and id\"}\u001b[0m\n",
      "Observation: \u001b[36;1m\u001b[1;3mName: Wang Dang Doodle\n",
      "ID: 1LEacXCo9v6TtcAiOpehWc\u001b[0m\n",
      "Thought:\u001b[32;1m\u001b[1;3mI am finished executing the plan.\n",
      "Final Answer: The recommended blues song is \"Wang Dang Doodle\" with the ID: 1LEacXCo9v6TtcAiOpehWc.\u001b[0m\n",
      "\n",
      "\u001b[1m> Finished chain.\u001b[0m\n",
      "\n",
      "Observation: \u001b[33;1m\u001b[1;3mThe recommended blues song is \"Wang Dang Doodle\" with the ID: 1LEacXCo9v6TtcAiOpehWc.\u001b[0m\n",
      "Thought:\u001b[32;1m\u001b[1;3mI am finished executing the plan and have the information the user asked for.\n",
      "Final Answer: The recommended blues song for you is \"Wang Dang Doodle\" with the ID: 1LEacXCo9v6TtcAiOpehWc.\u001b[0m\n",
      "\n",
      "\u001b[1m> Finished chain.\u001b[0m\n"
     ]
    },
    {
     "data": {
      "text/plain": [
       "'The recommended blues song for you is \"Wang Dang Doodle\" with the ID: 1LEacXCo9v6TtcAiOpehWc.'"
      ]
     },
     "execution_count": 11,
     "metadata": {},
     "output_type": "execute_result"
    }
   ],
   "source": [
    "user_query = \"give me a song I'd like, make it blues-ey\"\n",
    "agent.run(user_query)"
   ]
  }
 ],
 "metadata": {
  "kernelspec": {
   "display_name": "Python 3 (ipykernel)",
   "language": "python",
   "name": "python3"
  },
  "language_info": {
   "codemirror_mode": {
    "name": "ipython",
    "version": 3
   },
   "file_extension": ".py",
   "mimetype": "text/x-python",
   "name": "python",
   "nbconvert_exporter": "python",
   "pygments_lexer": "ipython3",
   "version": "3.9.0"
  }
 },
 "nbformat": 4,
 "nbformat_minor": 5
}
