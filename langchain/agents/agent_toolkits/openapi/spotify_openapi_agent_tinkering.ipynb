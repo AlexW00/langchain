{
 "cells": [
  {
   "cell_type": "code",
   "execution_count": 1,
   "id": "c06a79f1",
   "metadata": {},
   "outputs": [],
   "source": [
    "%load_ext autoreload\n",
    "%autoreload 2"
   ]
  },
  {
   "cell_type": "code",
   "execution_count": 2,
   "id": "9b171fe6",
   "metadata": {},
   "outputs": [],
   "source": [
    "import os\n",
    "import requests\n",
    "import yaml\n",
    "\n",
    "import torch\n",
    "import matplotlib.pyplot as plt\n",
    "%matplotlib inline\n",
    "\n",
    "import tiktoken\n",
    "enc = tiktoken.encoding_for_model('text-davinci-001')\n",
    "def count_tokens(s): return len(enc.encode(s))"
   ]
  },
  {
   "cell_type": "markdown",
   "id": "01d30ae2",
   "metadata": {},
   "source": [
    "## Spotify api spec"
   ]
  },
  {
   "cell_type": "code",
   "execution_count": 3,
   "id": "0120a0d4",
   "metadata": {},
   "outputs": [
    {
     "name": "stdout",
     "output_type": "stream",
     "text": [
      "--2023-03-27 15:30:47--  https://raw.githubusercontent.com/APIs-guru/openapi-directory/main/APIs/spotify.com/1.0.0/openapi.yaml\n",
      "Resolving raw.githubusercontent.com (raw.githubusercontent.com)... 185.199.108.133, 185.199.109.133, 185.199.110.133, ...\n",
      "Connecting to raw.githubusercontent.com (raw.githubusercontent.com)|185.199.108.133|:443... connected.\n",
      "HTTP request sent, awaiting response... 200 OK\n",
      "Length: 286747 (280K) [text/plain]\n",
      "Saving to: ‘openapi.yaml’\n",
      "\n",
      "openapi.yaml        100%[===================>] 280.03K  --.-KB/s    in 0.06s   \n",
      "\n",
      "2023-03-27 15:30:48 (4.65 MB/s) - ‘openapi.yaml’ saved [286747/286747]\n",
      "\n"
     ]
    }
   ],
   "source": [
    "# https://github.com/APIs-guru/openapi-directory\n",
    "!wget https://raw.githubusercontent.com/APIs-guru/openapi-directory/main/APIs/spotify.com/1.0.0/openapi.yaml"
   ]
  },
  {
   "cell_type": "code",
   "execution_count": 4,
   "id": "f51569e3",
   "metadata": {},
   "outputs": [
    {
     "data": {
      "text/plain": [
       "dict_keys(['openapi', 'servers', 'info', 'paths', 'components'])"
      ]
     },
     "execution_count": 4,
     "metadata": {},
     "output_type": "execute_result"
    }
   ],
   "source": [
    "with open('openapi.yaml', 'r') as f:\n",
    "    spotify_api_spec = yaml.load(f, Loader=yaml.Loader)    \n",
    "spotify_api_spec.keys()"
   ]
  },
  {
   "cell_type": "code",
   "execution_count": 5,
   "id": "81cc7e0e",
   "metadata": {},
   "outputs": [
    {
     "data": {
      "text/plain": [
       "137242"
      ]
     },
     "execution_count": 5,
     "metadata": {},
     "output_type": "execute_result"
    }
   ],
   "source": [
    "count_tokens(yaml.dump(spotify_api_spec))"
   ]
  },
  {
   "cell_type": "code",
   "execution_count": 6,
   "id": "bcffaa9d",
   "metadata": {},
   "outputs": [
    {
     "data": {
      "text/plain": [
       "63"
      ]
     },
     "execution_count": 6,
     "metadata": {},
     "output_type": "execute_result"
    }
   ],
   "source": [
    "endpoints = [\n",
    "    (route, operation)\n",
    "    for route, operations in spotify_api_spec[\"paths\"].items()\n",
    "    for operation in operations\n",
    "    if operation in [\"get\", \"post\"]\n",
    "]\n",
    "len(endpoints)"
   ]
  },
  {
   "cell_type": "code",
   "execution_count": 7,
   "id": "319b72db",
   "metadata": {},
   "outputs": [
    {
     "data": {
      "text/plain": [
       "('https://accounts.spotify.com/authorize',\n",
       " 'https://accounts.spotify.com/api/token')"
      ]
     },
     "execution_count": 7,
     "metadata": {},
     "output_type": "execute_result"
    }
   ],
   "source": [
    "auth_metadata = spotify_api_spec['components']['securitySchemes']['oauth_2_0']['flows']['authorizationCode']\n",
    "auth_url = auth_metadata['authorizationUrl']\n",
    "token_url = auth_metadata['tokenUrl']\n",
    "scopes = list(auth_metadata['scopes'].keys())\n",
    "auth_url, token_url"
   ]
  },
  {
   "cell_type": "code",
   "execution_count": 8,
   "id": "8f58318d",
   "metadata": {},
   "outputs": [
    {
     "data": {
      "text/plain": [
       "'https://api.spotify.com/v1'"
      ]
     },
     "execution_count": 8,
     "metadata": {},
     "output_type": "execute_result"
    }
   ],
   "source": [
    "base_url = spotify_api_spec['servers'][0]['url']\n",
    "base_url"
   ]
  },
  {
   "cell_type": "markdown",
   "id": "fe659b1c",
   "metadata": {},
   "source": [
    "## Spotify app dev"
   ]
  },
  {
   "cell_type": "markdown",
   "id": "94531710",
   "metadata": {},
   "source": [
    "Setup:\n",
    "- https://developer.spotify.com/documentation/general/guides/authorization/\n",
    "- 1) set up an app in Spotify's developer console by hand to source creds (CLIENT_ID, CLIENT_SECRET, REDIRECT_URI)\n",
    "- 2) implement oauth flows to source access, refresh tokens. alternatively, Spotipy handles this:"
   ]
  },
  {
   "cell_type": "code",
   "execution_count": 9,
   "id": "7ef28bdb",
   "metadata": {},
   "outputs": [],
   "source": [
    "# !pip install spotipy\n",
    "CLIENT_ID = ''\n",
    "CLIENT_SECRET = ''\n",
    "REDIRECT_URI = 'http://thisisafakeaddress' # whitelisted\n",
    "\n",
    "os.environ['SPOTIPY_CLIENT_ID'] = CLIENT_ID\n",
    "os.environ['SPOTIPY_CLIENT_SECRET'] = CLIENT_SECRET\n",
    "os.environ['SPOTIPY_REDIRECT_URI'] = REDIRECT_URI\n",
    "\n",
    "import spotipy.util as util\n",
    "access_token = util.prompt_for_user_token(scope=','.join(scopes))\n",
    "\n",
    "headers = {\n",
    "    'Authorization': f'Bearer {access_token}'\n",
    "}"
   ]
  },
  {
   "cell_type": "markdown",
   "id": "dd538e94",
   "metadata": {},
   "source": [
    "## Spotify agent flows to evaluate... e.g. a dialogue recommender"
   ]
  },
  {
   "cell_type": "markdown",
   "id": "5c7eabbb",
   "metadata": {},
   "source": [
    "- https://developer.spotify.com/documentation/web-api/reference/#/operations/get-recommendations\n",
    "- multi-hop reasoning, cooperative multi-tasking with user\n",
    "- e.g.\n",
    "  \n",
    "```\n",
    "user: give me some music recs to listen to\n",
    "agent: <finds recommendation endpoint... finds some seed is required...>\n",
    "agent: who are some seed artists/songs/etc. i should base this recommedation on?\n",
    "user: \"miles davis\"\n",
    "agent: <hits recommendation endpoint...>\n",
    "agent: here are some recs\n",
    "user: ok, play rec[2]\n",
    "agent: <figures out playback...>\n",
    "```"
   ]
  },
  {
   "cell_type": "code",
   "execution_count": 10,
   "id": "bc78bdf3",
   "metadata": {},
   "outputs": [
    {
     "data": {
      "text/plain": [
       "'0kbYTNQb4Pb1rPbbaF0pT4'"
      ]
     },
     "execution_count": 10,
     "metadata": {},
     "output_type": "execute_result"
    }
   ],
   "source": [
    "artist_name = 'miles davis'\n",
    "res = requests.get(f'{base_url}/search', params={\n",
    "    'q': artist_name,\n",
    "    'type': ['artist']\n",
    "}, headers=headers)\n",
    "artist = res.json()['artists']['items'][0]\n",
    "assert artist['name'].lower() == artist_name\n",
    "artist['id']"
   ]
  },
  {
   "cell_type": "code",
   "execution_count": 11,
   "id": "21fa6d0a",
   "metadata": {},
   "outputs": [
    {
     "data": {
      "text/plain": [
       "['Make the Road By Walking',\n",
       " 'Come On, Come Over',\n",
       " 'When I Fall In Love',\n",
       " 'The Natives Are Restless Tonight - Rudy Van Gelder Edition/1999 Digital Remaster',\n",
       " 'American Tango']"
      ]
     },
     "execution_count": 11,
     "metadata": {},
     "output_type": "execute_result"
    }
   ],
   "source": [
    "res = requests.get(f'{base_url}/recommendations', params={\n",
    "    'seed_artists': artist['id'],\n",
    "}, headers=headers)\n",
    "res_json = res.json()\n",
    "[track['name'] for track in res_json['tracks']][:5]"
   ]
  },
  {
   "cell_type": "markdown",
   "id": "848540cd",
   "metadata": {},
   "source": [
    "## Build a structured embedding store of the OAS...\n",
    "\n",
    "One option is to treat the spec as unstructured, and then apply crude chunking strategies to break up the spec into retrieval units. The other option is to take advantage of the spec structure and embed accordingly. So far, just embedding each endpoint's description has been highest signal, not surpringly.\n"
   ]
  },
  {
   "cell_type": "code",
   "execution_count": 13,
   "id": "f304b0f6",
   "metadata": {},
   "outputs": [],
   "source": [
    "from langchain.agents.agent_toolkits.openapi import spec as spec_utils"
   ]
  },
  {
   "cell_type": "code",
   "execution_count": 14,
   "id": "506a2aea",
   "metadata": {},
   "outputs": [
    {
     "name": "stdout",
     "output_type": "stream",
     "text": [
      "7035\n",
      "18195\n",
      "540\n"
     ]
    }
   ],
   "source": [
    "print(count_tokens(yaml.dump(spotify_api_spec['paths']['/recommendations']['get'])))\n",
    "_spec = spec_utils.reduce_openapi_spec(spotify_api_spec, dereference=True)\n",
    "print(count_tokens(yaml.dump({name: docs for name, desc, docs in  _spec.endpoints}['GET /recommendations'])))\n",
    "_spec = spec_utils.reduce_openapi_spec(spotify_api_spec, dereference=False)\n",
    "print(count_tokens(yaml.dump({name: docs for name, desc, docs in  _spec.endpoints}['GET /recommendations'])))"
   ]
  },
  {
   "cell_type": "code",
   "execution_count": 15,
   "id": "27dc30ac",
   "metadata": {},
   "outputs": [],
   "source": [
    "from langchain.embeddings import OpenAIEmbeddings\n",
    "model_name = 'text-embedding-ada-002'\n",
    "embedder = OpenAIEmbeddings(model=model_name)"
   ]
  },
  {
   "cell_type": "code",
   "execution_count": 16,
   "id": "e86b8f06",
   "metadata": {},
   "outputs": [],
   "source": [
    "spec = spec_utils.reduce_openapi_spec(spotify_api_spec, dereference=False)"
   ]
  },
  {
   "cell_type": "code",
   "execution_count": 17,
   "id": "8dcabc2f",
   "metadata": {},
   "outputs": [],
   "source": [
    "# An API-specific change, but for now just keep a few api resources.\n",
    "resources = ['albums', 'artists', 'player', 'recommendations', 'search', 'tracks', 'user']\n",
    "spec.endpoints = [\n",
    "    (name, description, docs)\n",
    "    for name, description, docs in spec.endpoints\n",
    "    if any([resource in name for resource in resources])\n",
    "]"
   ]
  },
  {
   "cell_type": "code",
   "execution_count": 18,
   "id": "aead5147",
   "metadata": {},
   "outputs": [
    {
     "data": {
      "text/plain": [
       "['GET /albums Get Spotify catalog information for multiple albums identified by their Spotify IDs.\\n',\n",
       " 'GET /albums/{id} Get Spotify catalog information for a single album.\\n',\n",
       " 'GET /albums/{id}/tracks Get Spotify catalog information about an album’s tracks.\\nOptional parameters can be used to limit the number of tracks returned.\\n',\n",
       " 'GET /artists Get Spotify catalog information for several artists based on their Spotify IDs.\\n',\n",
       " 'GET /artists/{id} Get Spotify catalog information for a single artist identified by their unique Spotify ID.\\n']"
      ]
     },
     "execution_count": 18,
     "metadata": {},
     "output_type": "execute_result"
    }
   ],
   "source": [
    "endpoint_descriptions = [\n",
    "    f\"{name} {description}\"\n",
    "    for name, description, _ in spec.endpoints\n",
    "]\n",
    "endpoint_descriptionsv = embedder.embed_documents(endpoint_descriptions)\n",
    "endpoint_descriptions[:5]"
   ]
  },
  {
   "cell_type": "code",
   "execution_count": 19,
   "id": "bbaf0c95",
   "metadata": {},
   "outputs": [],
   "source": [
    "query = \"Who who wrote the song So What?\"\n",
    "queryv = embedder.embed_query(query)"
   ]
  },
  {
   "cell_type": "code",
   "execution_count": 20,
   "id": "387f3515",
   "metadata": {},
   "outputs": [],
   "source": [
    "endpoint_descriptionsv = torch.tensor(endpoint_descriptionsv)\n",
    "queryv = torch.tensor(queryv)\n",
    "dist = endpoint_descriptionsv @ queryv"
   ]
  },
  {
   "cell_type": "code",
   "execution_count": 21,
   "id": "66ef4682",
   "metadata": {},
   "outputs": [],
   "source": [
    "# Another API-specific change. API is resource-based and resources must be referenced by ID,\n",
    "# meaning our agent would have to look up these IDs. This isn't obvious, but a simple cheat would be\n",
    "# to upweight the search endpoint used for this lookup.\n",
    "search_idx = None\n",
    "for idx, text in enumerate(endpoint_descriptions):\n",
    "    if 'GET /search' in text:\n",
    "        search_idx = idx\n",
    "dist[search_idx] *= 1.1"
   ]
  },
  {
   "cell_type": "code",
   "execution_count": 22,
   "id": "426f05d4",
   "metadata": {},
   "outputs": [
    {
     "data": {
      "text/plain": [
       "['GET /search',\n",
       " 'GET /artists/{id}/related-artists',\n",
       " 'GET /me/tracks',\n",
       " 'GET /artists/{id}/top-tracks',\n",
       " 'GET /me/albums']"
      ]
     },
     "execution_count": 22,
     "metadata": {},
     "output_type": "execute_result"
    }
   ],
   "source": [
    "top_k = 5\n",
    "values, indices = torch.sort(dist, descending=True)\n",
    "[spec.endpoints[ix][0] for ix in indices][:top_k]"
   ]
  },
  {
   "cell_type": "markdown",
   "id": "e5cce238",
   "metadata": {},
   "source": [
    "## Initial agent"
   ]
  },
  {
   "cell_type": "code",
   "execution_count": 23,
   "id": "e4ae6c29",
   "metadata": {},
   "outputs": [],
   "source": [
    "from langchain.llms.openai import OpenAI\n",
    "from langchain.chains.llm import LLMChain\n",
    "from langchain.agents.mrkl.base import ZeroShotAgent\n",
    "from langchain.agents.agent import AgentExecutor\n",
    "from langchain.agents.mrkl.prompt import FORMAT_INSTRUCTIONS"
   ]
  },
  {
   "cell_type": "markdown",
   "id": "16f4dd20",
   "metadata": {},
   "source": [
    "#### 1. Retrieval tool (eventually, would switch to langchain.tools.vectorstore.tool.VectorStoreQATool)"
   ]
  },
  {
   "cell_type": "code",
   "execution_count": 24,
   "id": "7ae362bb",
   "metadata": {},
   "outputs": [],
   "source": [
    "from langchain.tools.base import BaseTool\n",
    "\n",
    "# Oof.\n",
    "API_SPEC_RETRIEVAL_TOOL_DESCRIPTION = \"\"\"Can be used to search for relevant API endpoints and the endpoint details.\n",
    "The input is a short description of desired API functionality.\n",
    "\"\"\"\n",
    "\n",
    "# Build this out by hand before using existing components e.g. VectorStoreQATool\n",
    "# 1st: top-k retrieval of endpoint details.\n",
    "# 2nd: agent-ize: allow LM to 1st retrieve/rank endpoints and 2nd get selected endpoint details..\n",
    "# ...\n",
    "class ApiSpecRetrievalTool(BaseTool):\n",
    "    \n",
    "    name = 'api_endpoint_retriever'\n",
    "    description = API_SPEC_RETRIEVAL_TOOL_DESCRIPTION + f\"\"\"\n",
    "    The base url for the API is: {spec.servers[0]['url']}.\n",
    "    \"\"\" \n",
    "    _endpoints = spec.endpoints\n",
    "    _endpoint_descriptionsv = torch.tensor(embedder.embed_documents([\n",
    "        f\"{name} {desc}\"\n",
    "        for name, desc, docs in spec.endpoints\n",
    "    ]))\n",
    "\n",
    "    def _run(self, tool_input: str) -> str:\n",
    "        queryv = torch.tensor(embedder.embed_query(tool_input))\n",
    "        dist = self._endpoint_descriptionsv @ queryv\n",
    "\n",
    "        # See comment above...\n",
    "        search_idx = None\n",
    "        for idx, text in enumerate([name for name, desc, details in self._endpoints]):\n",
    "            if 'GET /search' in text:\n",
    "                search_idx = idx\n",
    "\n",
    "        dist[search_idx] *= 1.25\n",
    "\n",
    "        top_k = 5\n",
    "        top_k_ix = torch.argsort(dist, descending=True)[:top_k]\n",
    "        \n",
    "        return yaml.dump({\n",
    "            self._endpoints[ix][0]: self._endpoints[ix][2]\n",
    "            for ix in top_k_ix\n",
    "        })\n",
    "    \n",
    "    def _arun(): pass\n",
    "        "
   ]
  },
  {
   "cell_type": "markdown",
   "id": "fad16581",
   "metadata": {},
   "source": [
    "#### 2. Wrap the retrieval tool with another chain or agent, basically acting as a k=1 ranker.\n",
    "\n",
    "This agent's trajectory is independent from the top-level agent, so won't consume context tokens."
   ]
  },
  {
   "cell_type": "code",
   "execution_count": 25,
   "id": "e52592f0",
   "metadata": {},
   "outputs": [],
   "source": [
    "# prompt = PromptTemplate(\n",
    "#     template=\"Select the endpoint from the docs that can best be used to answer this query: {query}\\n\\Docs:{docs}\\n\\nEndpoint:\",\n",
    "#     input_variables=[\"query\", \"docs\"],\n",
    "# )\n",
    "# LLMChain(\n",
    "#     OpenAI()\n",
    "# )"
   ]
  },
  {
   "cell_type": "code",
   "execution_count": 26,
   "id": "a9d206a5",
   "metadata": {},
   "outputs": [],
   "source": [
    "# https://github.com/hwchase17/langchain/blob/7eba828e1b9542de4a0b67d1da2ffcfa83c6baca/langchain/agents/mrkl/base.py#L93-L94\n",
    "# Prefix -> agent task description\n",
    "PREFIX=\"\"\"You are an agent that interacts with an API spec and your task is to select the API endpoint that can best be used to answer a given Question.\n",
    "\n",
    "Some endpoint takes arguments (a GET route may take url params and a POST route must take body args). Do not answer with an endpoint if its arguments are unknown.\n",
    "Your final answer should be the name of the endpoint, like GET /random/endpoint.\n",
    "Do not try to call the endpoint. If you can't find an endpoint that works, say I don't know.\n",
    "\"\"\"\n",
    "# Suffix -> warm-start the completion.\n",
    "SUFFIX = \"\"\"Begin!\n",
    "\n",
    "Question: {input}\n",
    "Thought: I can use the endpoint retrieval tool to find a few candidate endpoints. Then I will return the name of one endpoint.\n",
    "{agent_scratchpad}\"\"\"\n",
    "\n",
    "# describes LM context format i.e. how to construct a ReAct agent trajectory\n",
    "FORMAT_INSTRUCTIONS\n",
    "\n",
    "tools = [ApiSpecRetrievalTool()]\n",
    "\n",
    "prompt = ZeroShotAgent.create_prompt(\n",
    "    tools,\n",
    "    prefix=PREFIX,\n",
    "    suffix=SUFFIX,\n",
    "    format_instructions=FORMAT_INSTRUCTIONS,\n",
    "    input_variables=None, # defaults to [\"input\", \"agent_scratchpad\"]\n",
    ")\n",
    "\n",
    "llm_chain = LLMChain(\n",
    "    llm=OpenAI(model_name='text-davinci-003', temperature=0.0),\n",
    "    prompt=prompt,\n",
    ")\n",
    "tool_names = [tool.name for tool in tools]\n",
    "endpoint_retrieval_agent = ZeroShotAgent(llm_chain=llm_chain, allowed_tools=tool_names)"
   ]
  },
  {
   "cell_type": "code",
   "execution_count": 28,
   "id": "71bc4c33",
   "metadata": {},
   "outputs": [],
   "source": [
    "# return_intermediate_steps=True\n",
    "# __call__{{'input': query}}\n",
    "# return_intermediate_steps=True\n",
    "# run(query: str)\n",
    "endpoint_retrieval_agent_executor = AgentExecutor.from_agent_and_tools(agent=endpoint_retrieval_agent, tools=tools, verbose=True)"
   ]
  },
  {
   "cell_type": "code",
   "execution_count": 29,
   "id": "87841591",
   "metadata": {
    "scrolled": false
   },
   "outputs": [
    {
     "name": "stdout",
     "output_type": "stream",
     "text": [
      "\n",
      "\n",
      "\u001b[1m> Entering new AgentExecutor chain...\u001b[0m\n",
      "\u001b[32;1m\u001b[1;3mAction: api_endpoint_retriever\n",
      "Action Input: Get recommendations for songs\u001b[0m\n",
      "Observation: \u001b[36;1m\u001b[1;3mGET /artists/{id}/related-artists:\n",
      "  description: 'Get Spotify catalog information about artists similar to a given artist.\n",
      "    Similarity is based on analysis of the Spotify community''s [listening history](http://news.spotify.com/se/2010/02/03/related-artists/).\n",
      "\n",
      "    '\n",
      "  parameters: []\n",
      "  responses:\n",
      "    $ref: '#/components/responses/ManyArtists'\n",
      "GET /me/albums:\n",
      "  description: 'Get a list of the albums saved in the current Spotify user''s ''Your\n",
      "    Music'' library.\n",
      "\n",
      "    '\n",
      "  parameters: []\n",
      "  responses:\n",
      "    $ref: '#/components/responses/PagingSavedAlbumObject'\n",
      "GET /me/tracks:\n",
      "  description: 'Get a list of the songs saved in the current Spotify user''s ''Your\n",
      "    Music'' library.\n",
      "\n",
      "    '\n",
      "  parameters: []\n",
      "  responses:\n",
      "    $ref: '#/components/responses/PagingSavedTrackObject'\n",
      "GET /recommendations:\n",
      "  description: 'Recommendations are generated based on the available information for\n",
      "    a given seed entity and matched against similar artists and tracks. If there is\n",
      "    sufficient information about the provided seeds, a list of tracks will be returned\n",
      "    together with pool size details.\n",
      "\n",
      "\n",
      "    For artists and tracks that are very new or obscure there might not be enough\n",
      "    data to generate a list of tracks.\n",
      "\n",
      "    '\n",
      "  parameters:\n",
      "  - in: query\n",
      "    name: seed_artists\n",
      "    required: true\n",
      "    schema:\n",
      "      description: 'A comma separated list of [Spotify IDs](/documentation/web-api/#spotify-uris-and-ids)\n",
      "        for seed artists.  Up to 5 seed values may be provided in any combination\n",
      "        of `seed_artists`, `seed_tracks` and `seed_genres`.\n",
      "\n",
      "        '\n",
      "      example: 4NHQUGzhtTLFvgF5SZesLK\n",
      "      title: Spotify Artist ID Seeds\n",
      "      type: string\n",
      "  - in: query\n",
      "    name: seed_genres\n",
      "    required: true\n",
      "    schema:\n",
      "      description: 'A comma separated list of any genres in the set of [available\n",
      "        genre seeds](#available-genre-seeds).  Up to 5 seed values may be provided\n",
      "        in any combination of `seed_artists`, `seed_tracks` and `seed_genres`.\n",
      "\n",
      "        '\n",
      "      example: classical,country\n",
      "      title: Genres Seeds\n",
      "      type: string\n",
      "  - in: query\n",
      "    name: seed_tracks\n",
      "    required: true\n",
      "    schema:\n",
      "      description: 'A comma separated list of [Spotify IDs](/documentation/web-api/#spotify-uris-and-ids)\n",
      "        for a seed track.  Up to 5 seed values may be provided in any combination\n",
      "        of `seed_artists`, `seed_tracks` and `seed_genres`.\n",
      "\n",
      "        '\n",
      "      example: 0c6xIDDpzE81m2q797ordA\n",
      "      title: Spotify Track ID Seeds\n",
      "      type: string\n",
      "  responses:\n",
      "    $ref: '#/components/responses/OneRecommendations'\n",
      "GET /search:\n",
      "  description: 'Get Spotify catalog information about albums, artists, playlists,\n",
      "    tracks, shows, episodes or audiobooks\n",
      "\n",
      "    that match a keyword string.<br />\n",
      "\n",
      "    **Note: Audiobooks are only available for the US, UK, Ireland, New Zealand and\n",
      "    Australia markets.**\n",
      "\n",
      "    '\n",
      "  parameters:\n",
      "  - in: query\n",
      "    name: q\n",
      "    required: true\n",
      "    schema:\n",
      "      description: 'Your search query.\n",
      "\n",
      "\n",
      "        You can narrow down your search using field filters. The available filters\n",
      "        are `album`, `artist`, `track`, `year`, `upc`, `tag:hipster`, `tag:new`, `isrc`,\n",
      "        and `genre`. Each field filter only applies to certain result types.\n",
      "\n",
      "\n",
      "        The `artist` and `year` filters can be used while searching albums, artists\n",
      "        and tracks. You can filter on a single `year` or a range (e.g. 1955-1960).<br\n",
      "        />\n",
      "\n",
      "        The `album` filter can be used while searching albums and tracks.<br />\n",
      "\n",
      "        The `genre` filter can be used while searching artists and tracks.<br />\n",
      "\n",
      "        The `isrc` and `track` filters can be used while searching tracks.<br />\n",
      "\n",
      "        The `upc`, `tag:new` and `tag:hipster` filters can only be used while searching\n",
      "        albums. The `tag:new` filter will return albums released in the past two weeks\n",
      "        and `tag:hipster` can be used to return only albums with the lowest 10% popularity.<br\n",
      "        />\n",
      "\n",
      "        '\n",
      "      example: remaster%20track:Doxy%20artist:Miles%20Davis\n",
      "      title: Query\n",
      "      type: string\n",
      "  - explode: false\n",
      "    in: query\n",
      "    name: type\n",
      "    required: true\n",
      "    schema:\n",
      "      description: 'A comma-separated list of item types to search across. Search\n",
      "        results include hits\n",
      "\n",
      "        from all the specified item types. For example: `q=abacab&type=album,track`\n",
      "        returns\n",
      "\n",
      "        both albums and tracks matching \"abacab\".\n",
      "\n",
      "        '\n",
      "      items:\n",
      "        enum:\n",
      "        - album\n",
      "        - artist\n",
      "        - playlist\n",
      "        - track\n",
      "        - show\n",
      "        - episode\n",
      "        - audiobook\n",
      "        type: string\n",
      "      title: Item type\n",
      "      type: array\n",
      "  responses:\n",
      "    $ref: '#/components/responses/SearchItems'\n",
      "\u001b[0m\n",
      "Thought:\u001b[32;1m\u001b[1;3m I should use the endpoint that returns recommendations for songs.\n",
      "Action: GET /recommendations\n",
      "Action Input: seed_artists, seed_genres, seed_tracks\u001b[0m\n",
      "Observation: GET /recommendations is not a valid tool, try another one.\n",
      "\u001b[32;1m\u001b[1;3m I should use the endpoint that searches for tracks.\n",
      "Action: GET /search\n",
      "Action Input: q, type\u001b[0m\n",
      "Observation: GET /search is not a valid tool, try another one.\n",
      "\u001b[32;1m\u001b[1;3m I should use the endpoint that searches for albums.\n",
      "Action: GET /search\n",
      "Action Input: q, type\u001b[0m\n",
      "Observation: GET /search is not a valid tool, try another one.\n",
      "\u001b[32;1m\u001b[1;3m I should use the endpoint that searches for artists.\n",
      "Action: GET /search\n",
      "Action Input: q, type\u001b[0m\n",
      "Observation: GET /search is not a valid tool, try another one.\n",
      "\u001b[32;1m\u001b[1;3m I should use the endpoint that searches for playlists.\n",
      "Action: GET /search\n",
      "Action Input: q, type\u001b[0m\n",
      "Observation: GET /search is not a valid tool, try another one.\n",
      "\u001b[32;1m\u001b[1;3m I should use the endpoint that searches for shows.\n",
      "Action: GET /search\n",
      "Action Input: q, type\u001b[0m\n",
      "Observation: GET /search is not a valid tool, try another one.\n",
      "\u001b[32;1m\u001b[1;3m I should use the endpoint that searches for episodes.\n",
      "Action: GET /search\n",
      "Action Input: q, type\u001b[0m\n",
      "Observation: GET /search is not a valid tool, try another one.\n",
      "\u001b[32;1m\u001b[1;3m I should use the endpoint that searches for audiobooks.\n",
      "Action: GET /search\n",
      "Action Input: q, type\u001b[0m\n",
      "Observation: GET /search is not a valid tool, try another one.\n",
      "\u001b[32;1m\u001b[1;3m I now know the final answer.\n",
      "Final Answer: I don't know.\u001b[0m\n",
      "\n",
      "\u001b[1m> Finished chain.\u001b[0m\n"
     ]
    },
    {
     "data": {
      "text/plain": [
       "\"I don't know.\""
      ]
     },
     "execution_count": 29,
     "metadata": {},
     "output_type": "execute_result"
    }
   ],
   "source": [
    "endpoint_retrieval_agent_executor.run(\"Give me recs for songs like So What\")"
   ]
  },
  {
   "cell_type": "markdown",
   "id": "587eb07b",
   "metadata": {},
   "source": [
    "#### 3. Wrap it as a tool also."
   ]
  },
  {
   "cell_type": "code",
   "execution_count": 30,
   "id": "86ed40f7",
   "metadata": {},
   "outputs": [],
   "source": [
    "def retrieval_agent_func(inp: str):\n",
    "    out = endpoint_retrieval_agent_executor.run(inp)\n",
    "    return yaml.dump({name: docs for name, _, docs in spec.endpoints}[out])\n",
    "\n",
    "from langchain.agents.tools import Tool\n",
    "endpoint_retriever_agent_tool = Tool(\n",
    "    name=\"endpoint_selector\",\n",
    "    func=retrieval_agent_func,\n",
    "    description=\"\"\"Can be used to find an API endpoint + its documention that will best fulfill a user query.\"\"\"\n",
    ")"
   ]
  },
  {
   "cell_type": "code",
   "execution_count": 31,
   "id": "1386e5a6",
   "metadata": {},
   "outputs": [],
   "source": [
    "from langchain.requests import RequestsWrapper\n",
    "from langchain.tools.requests.tool import (\n",
    "    RequestsGetTool,\n",
    "    RequestsPostTool,\n",
    ")\n",
    "assert 'Authorization' in headers\n",
    "requests_wrapper = RequestsWrapper(headers=headers)\n",
    "requests_tools = [\n",
    "    RequestsGetTool(requests_wrapper=requests_wrapper, response_length=3000),\n",
    "    RequestsPostTool(requests_wrapper=requests_wrapper, response_length=3000),\n",
    "]"
   ]
  },
  {
   "cell_type": "code",
   "execution_count": 32,
   "id": "4df727ec",
   "metadata": {},
   "outputs": [],
   "source": [
    "# https://github.com/hwchase17/langchain/blob/7eba828e1b9542de4a0b67d1da2ffcfa83c6baca/langchain/agents/mrkl/base.py#L93-L94\n",
    "# Prefix -> agent task description\n",
    "\n",
    "# Only use information returned by the tools to construct your response.\n",
    "# -> knows about some of these apis...\n",
    "PREFIX=\"\"\"You are an agent that interacts with a web API on behalf of a user.\n",
    "If the user asks you a question or assigns you a task that seems unrelated to the API, do not hallucinate anything. Just say you don't know.\n",
    "Only use information returned by the tools to construct your response.\n",
    "\"\"\"\n",
    "# Suffix -> warm-start the completion.\n",
    "SUFFIX = \"\"\"Begin!\n",
    "\n",
    "Question: {input}\n",
    "Thought: I should use /search endpoint to find Spotify resource ids.\n",
    "{agent_scratchpad}\"\"\"\n",
    "\n",
    "# describes LM context format i.e. how to construct a ReAct agent trajectory\n",
    "FORMAT_INSTRUCTIONS\n",
    "\n",
    "tools = [endpoint_retriever_agent_tool, *requests_tools]\n",
    "\n",
    "prompt = ZeroShotAgent.create_prompt(\n",
    "    tools,\n",
    "    prefix=PREFIX,\n",
    "    suffix=SUFFIX,\n",
    "    format_instructions=FORMAT_INSTRUCTIONS,\n",
    ")\n"
   ]
  },
  {
   "cell_type": "code",
   "execution_count": 382,
   "id": "5230177c",
   "metadata": {},
   "outputs": [],
   "source": [
    "# print(prompt.template)"
   ]
  },
  {
   "cell_type": "code",
   "execution_count": 33,
   "id": "eb8320c9",
   "metadata": {},
   "outputs": [],
   "source": [
    "llm_chain = LLMChain(\n",
    "    llm=OpenAI(model_name='text-davinci-003', temperature=0.0),\n",
    "    prompt=prompt,\n",
    ")\n",
    "tool_names = [tool.name for tool in tools]\n",
    "agent = ZeroShotAgent(llm_chain=llm_chain, allowed_tools=tool_names)\n",
    "agent_executor = AgentExecutor.from_agent_and_tools(agent=agent, tools=tools, verbose=True, return_intermediate_steps=True)"
   ]
  },
  {
   "cell_type": "code",
   "execution_count": 34,
   "id": "15e58967",
   "metadata": {
    "scrolled": false
   },
   "outputs": [
    {
     "name": "stdout",
     "output_type": "stream",
     "text": [
      "\n",
      "\n",
      "\u001b[1m> Entering new AgentExecutor chain...\u001b[0m\n",
      "\u001b[32;1m\u001b[1;3mAction: endpoint_selector\n",
      "Action Input: \"Spotify recommend api\"\u001b[0m\n",
      "\n",
      "\u001b[1m> Entering new AgentExecutor chain...\u001b[0m\n",
      "\u001b[32;1m\u001b[1;3mAction: api_endpoint_retriever\n",
      "Action Input: Spotify recommend\u001b[0m\n",
      "Observation: \u001b[36;1m\u001b[1;3mGET /artists/{id}/related-artists:\n",
      "  description: 'Get Spotify catalog information about artists similar to a given artist.\n",
      "    Similarity is based on analysis of the Spotify community''s [listening history](http://news.spotify.com/se/2010/02/03/related-artists/).\n",
      "\n",
      "    '\n",
      "  parameters: []\n",
      "  responses:\n",
      "    $ref: '#/components/responses/ManyArtists'\n",
      "GET /me/albums:\n",
      "  description: 'Get a list of the albums saved in the current Spotify user''s ''Your\n",
      "    Music'' library.\n",
      "\n",
      "    '\n",
      "  parameters: []\n",
      "  responses:\n",
      "    $ref: '#/components/responses/PagingSavedAlbumObject'\n",
      "GET /me/tracks:\n",
      "  description: 'Get a list of the songs saved in the current Spotify user''s ''Your\n",
      "    Music'' library.\n",
      "\n",
      "    '\n",
      "  parameters: []\n",
      "  responses:\n",
      "    $ref: '#/components/responses/PagingSavedTrackObject'\n",
      "GET /recommendations:\n",
      "  description: 'Recommendations are generated based on the available information for\n",
      "    a given seed entity and matched against similar artists and tracks. If there is\n",
      "    sufficient information about the provided seeds, a list of tracks will be returned\n",
      "    together with pool size details.\n",
      "\n",
      "\n",
      "    For artists and tracks that are very new or obscure there might not be enough\n",
      "    data to generate a list of tracks.\n",
      "\n",
      "    '\n",
      "  parameters:\n",
      "  - in: query\n",
      "    name: seed_artists\n",
      "    required: true\n",
      "    schema:\n",
      "      description: 'A comma separated list of [Spotify IDs](/documentation/web-api/#spotify-uris-and-ids)\n",
      "        for seed artists.  Up to 5 seed values may be provided in any combination\n",
      "        of `seed_artists`, `seed_tracks` and `seed_genres`.\n",
      "\n",
      "        '\n",
      "      example: 4NHQUGzhtTLFvgF5SZesLK\n",
      "      title: Spotify Artist ID Seeds\n",
      "      type: string\n",
      "  - in: query\n",
      "    name: seed_genres\n",
      "    required: true\n",
      "    schema:\n",
      "      description: 'A comma separated list of any genres in the set of [available\n",
      "        genre seeds](#available-genre-seeds).  Up to 5 seed values may be provided\n",
      "        in any combination of `seed_artists`, `seed_tracks` and `seed_genres`.\n",
      "\n",
      "        '\n",
      "      example: classical,country\n",
      "      title: Genres Seeds\n",
      "      type: string\n",
      "  - in: query\n",
      "    name: seed_tracks\n",
      "    required: true\n",
      "    schema:\n",
      "      description: 'A comma separated list of [Spotify IDs](/documentation/web-api/#spotify-uris-and-ids)\n",
      "        for a seed track.  Up to 5 seed values may be provided in any combination\n",
      "        of `seed_artists`, `seed_tracks` and `seed_genres`.\n",
      "\n",
      "        '\n",
      "      example: 0c6xIDDpzE81m2q797ordA\n",
      "      title: Spotify Track ID Seeds\n",
      "      type: string\n",
      "  responses:\n",
      "    $ref: '#/components/responses/OneRecommendations'\n",
      "GET /search:\n",
      "  description: 'Get Spotify catalog information about albums, artists, playlists,\n",
      "    tracks, shows, episodes or audiobooks\n",
      "\n",
      "    that match a keyword string.<br />\n",
      "\n",
      "    **Note: Audiobooks are only available for the US, UK, Ireland, New Zealand and\n",
      "    Australia markets.**\n",
      "\n",
      "    '\n",
      "  parameters:\n",
      "  - in: query\n",
      "    name: q\n",
      "    required: true\n",
      "    schema:\n",
      "      description: 'Your search query.\n",
      "\n",
      "\n",
      "        You can narrow down your search using field filters. The available filters\n",
      "        are `album`, `artist`, `track`, `year`, `upc`, `tag:hipster`, `tag:new`, `isrc`,\n",
      "        and `genre`. Each field filter only applies to certain result types.\n",
      "\n",
      "\n",
      "        The `artist` and `year` filters can be used while searching albums, artists\n",
      "        and tracks. You can filter on a single `year` or a range (e.g. 1955-1960).<br\n",
      "        />\n",
      "\n",
      "        The `album` filter can be used while searching albums and tracks.<br />\n",
      "\n",
      "        The `genre` filter can be used while searching artists and tracks.<br />\n",
      "\n",
      "        The `isrc` and `track` filters can be used while searching tracks.<br />\n",
      "\n",
      "        The `upc`, `tag:new` and `tag:hipster` filters can only be used while searching\n",
      "        albums. The `tag:new` filter will return albums released in the past two weeks\n",
      "        and `tag:hipster` can be used to return only albums with the lowest 10% popularity.<br\n",
      "        />\n",
      "\n",
      "        '\n",
      "      example: remaster%20track:Doxy%20artist:Miles%20Davis\n",
      "      title: Query\n",
      "      type: string\n",
      "  - explode: false\n",
      "    in: query\n",
      "    name: type\n",
      "    required: true\n",
      "    schema:\n",
      "      description: 'A comma-separated list of item types to search across. Search\n",
      "        results include hits\n",
      "\n",
      "        from all the specified item types. For example: `q=abacab&type=album,track`\n",
      "        returns\n",
      "\n",
      "        both albums and tracks matching \"abacab\".\n",
      "\n",
      "        '\n",
      "      items:\n",
      "        enum:\n",
      "        - album\n",
      "        - artist\n",
      "        - playlist\n",
      "        - track\n",
      "        - show\n",
      "        - episode\n",
      "        - audiobook\n",
      "        type: string\n",
      "      title: Item type\n",
      "      type: array\n",
      "  responses:\n",
      "    $ref: '#/components/responses/SearchItems'\n",
      "\u001b[0m\n",
      "Thought:\u001b[32;1m\u001b[1;3m I now know the final answer\n",
      "Final Answer: GET /recommendations\u001b[0m\n",
      "\n",
      "\u001b[1m> Finished chain.\u001b[0m\n",
      "\n",
      "Observation: \u001b[36;1m\u001b[1;3mdescription: 'Recommendations are generated based on the available information for\n",
      "  a given seed entity and matched against similar artists and tracks. If there is\n",
      "  sufficient information about the provided seeds, a list of tracks will be returned\n",
      "  together with pool size details.\n",
      "\n",
      "\n",
      "  For artists and tracks that are very new or obscure there might not be enough data\n",
      "  to generate a list of tracks.\n",
      "\n",
      "  '\n",
      "parameters:\n",
      "- in: query\n",
      "  name: seed_artists\n",
      "  required: true\n",
      "  schema:\n",
      "    description: 'A comma separated list of [Spotify IDs](/documentation/web-api/#spotify-uris-and-ids)\n",
      "      for seed artists.  Up to 5 seed values may be provided in any combination of\n",
      "      `seed_artists`, `seed_tracks` and `seed_genres`.\n",
      "\n",
      "      '\n",
      "    example: 4NHQUGzhtTLFvgF5SZesLK\n",
      "    title: Spotify Artist ID Seeds\n",
      "    type: string\n",
      "- in: query\n",
      "  name: seed_genres\n",
      "  required: true\n",
      "  schema:\n",
      "    description: 'A comma separated list of any genres in the set of [available genre\n",
      "      seeds](#available-genre-seeds).  Up to 5 seed values may be provided in any\n",
      "      combination of `seed_artists`, `seed_tracks` and `seed_genres`.\n",
      "\n",
      "      '\n",
      "    example: classical,country\n",
      "    title: Genres Seeds\n",
      "    type: string\n",
      "- in: query\n",
      "  name: seed_tracks\n",
      "  required: true\n",
      "  schema:\n",
      "    description: 'A comma separated list of [Spotify IDs](/documentation/web-api/#spotify-uris-and-ids)\n",
      "      for a seed track.  Up to 5 seed values may be provided in any combination of\n",
      "      `seed_artists`, `seed_tracks` and `seed_genres`.\n",
      "\n",
      "      '\n",
      "    example: 0c6xIDDpzE81m2q797ordA\n",
      "    title: Spotify Track ID Seeds\n",
      "    type: string\n",
      "responses:\n",
      "  $ref: '#/components/responses/OneRecommendations'\n",
      "\u001b[0m\n",
      "Thought:\u001b[32;1m\u001b[1;3m I should use the /search endpoint to find the Spotify resource ids for Alicia Keys.\n",
      "Action: requests_get\n",
      "Action Input: \"https://api.spotify.com/v1/search?q=Alicia+Keys&type=artist\"\u001b[0m\n",
      "Observation: \u001b[33;1m\u001b[1;3m{\n",
      "  \"artists\" : {\n",
      "    \"href\" : \"https://api.spotify.com/v1/search?query=Alicia+Keys&type=artist&offset=0&limit=20\",\n",
      "    \"items\" : [ {\n",
      "      \"external_urls\" : {\n",
      "        \"spotify\" : \"https://open.spotify.com/artist/3DiDSECUqqY1AuBP8qtaIa\"\n",
      "      },\n",
      "      \"followers\" : {\n",
      "        \"href\" : null,\n",
      "        \"total\" : 10547073\n",
      "      },\n",
      "      \"genres\" : [ \"hip pop\", \"neo soul\", \"pop\", \"r&b\", \"urban contemporary\" ],\n",
      "      \"href\" : \"https://api.spotify.com/v1/artists/3DiDSECUqqY1AuBP8qtaIa\",\n",
      "      \"id\" : \"3DiDSECUqqY1AuBP8qtaIa\",\n",
      "      \"images\" : [ {\n",
      "        \"height\" : 640,\n",
      "        \"url\" : \"https://i.scdn.co/image/ab6761610000e5ebe2be4a270f9ec57fef30a8ad\",\n",
      "        \"width\" : 640\n",
      "      }, {\n",
      "        \"height\" : 320,\n",
      "        \"url\" : \"https://i.scdn.co/image/ab67616100005174e2be4a270f9ec57fef30a8ad\",\n",
      "        \"width\" : 320\n",
      "      }, {\n",
      "        \"height\" : 160,\n",
      "        \"url\" : \"https://i.scdn.co/image/ab6761610000f178e2be4a270f9ec57fef30a8ad\",\n",
      "        \"width\" : 160\n",
      "      } ],\n",
      "      \"name\" : \"Alicia Keys\",\n",
      "      \"popularity\" : 79,\n",
      "      \"type\" : \"artist\",\n",
      "      \"uri\" : \"spotify:artist:3DiDSECUqqY1AuBP8qtaIa\"\n",
      "    }, {\n",
      "      \"external_urls\" : {\n",
      "        \"spotify\" : \"https://open.spotify.com/artist/7v4FV3DzSUOvaZyMwTxKIG\"\n",
      "      },\n",
      "      \"followers\" : {\n",
      "        \"href\" : null,\n",
      "        \"total\" : 36281\n",
      "      },\n",
      "      \"genres\" : [ \"funk\", \"post-disco\", \"quiet storm\", \"urban contemporary\" ],\n",
      "      \"href\" : \"https://api.spotify.com/v1/artists/7v4FV3DzSUOvaZyMwTxKIG\",\n",
      "      \"id\" : \"7v4FV3DzSUOvaZyMwTxKIG\",\n",
      "      \"images\" : [ {\n",
      "        \"height\" : 1000,\n",
      "        \"url\" : \"https://i.scdn.co/image/be1c40803cd02bd01f2437be145bce30c9254674\",\n",
      "        \"width\" : 1000\n",
      "      }, {\n",
      "        \"height\" : 640,\n",
      "        \"url\" : \"https://i.scdn.co/image/cb2f5ddb9f50e35b167ddc0b91d85a19237b9c27\",\n",
      "        \"width\" : 640\n",
      "      }, {\n",
      "        \"height\" : 200,\n",
      "        \"url\" : \"https://i.scdn.co/image/b6be703648435a1d80d13f9d9a3e385e8a4383c3\",\n",
      "        \"width\" : 200\n",
      "      }, {\n",
      "        \"height\" : 64,\n",
      "        \"url\" : \"https://i.scdn.co/image/8747124d3b6fb595c02b7b8a3a66bc60a0bdad19\",\n",
      "        \"width\" : 64\n",
      "      } ],\n",
      "      \"name\" : \"Alicia Myers\",\n",
      "      \"popularity\" : 39,\n",
      "      \"type\" : \"artist\",\n",
      "      \"uri\" : \"spotify:artist:7v4FV3DzSUOvaZyMwTxKIG\"\n",
      "    }, {\n",
      "      \"external_urls\" : {\n",
      "        \"spotify\" : \"https://open.spotify.com/artist/1kU1iLD32jP2PAhCETfR20\"\n",
      "      },\n",
      "      \"followers\" : {\n",
      "        \"href\" : null,\n",
      "        \"total\" : 49\n",
      "      },\n",
      "      \"genres\" : [ ],\n",
      "      \"href\" : \"https://api.spotify.com/v1/artists/1kU1iLD32jP2PAhCETfR20\",\n",
      "      \"id\" : \"1kU1iLD32jP2PAhCETfR20\",\n",
      "      \"images\" : [ ],\n",
      "      \"name\" : \"Karaoke - Alicia Keys\",\n",
      "      \"popularity\" : 0,\n",
      "      \"type\" : \"artist\",\n",
      "      \"uri\" : \"spotify:artist:1kU1iLD32jP2PAhCETfR20\"\n",
      "    }, {\n",
      "      \"external_urls\" : {\n",
      "        \"spotify\" : \"https://open.spotify.com/artist/6nrw9k9Wgu2h1NgA4YRSog\"\n",
      "      },\n",
      "      \"followers\" : {\n",
      "        \"href\" : null,\n",
      "        \"total\" : 384\n",
      "      },\n",
      "      \"genres\" : [ ],\n",
      "      \"href\" : \"https://api.spotify.com/v1/artists/6nrw9k9Wgu2h1NgA4Y\u001b[0m\n"
     ]
    },
    {
     "name": "stdout",
     "output_type": "stream",
     "text": [
      "Thought:\u001b[32;1m\u001b[1;3m I should use the /recommendations endpoint to get the songs by artists like Alicia Keys.\n",
      "Action: requests_get\n",
      "Action Input: \"https://api.spotify.com/v1/recommendations?seed_artists=3DiDSECUqqY1AuBP8qtaIa\"\u001b[0m\n",
      "Observation: \u001b[33;1m\u001b[1;3m{\n",
      "  \"tracks\" : [ {\n",
      "    \"album\" : {\n",
      "      \"album_group\" : \"SINGLE\",\n",
      "      \"album_type\" : \"SINGLE\",\n",
      "      \"artists\" : [ {\n",
      "        \"external_urls\" : {\n",
      "          \"spotify\" : \"https://open.spotify.com/artist/0ZrpamOxcZybMHGg1AYtHP\"\n",
      "        },\n",
      "        \"href\" : \"https://api.spotify.com/v1/artists/0ZrpamOxcZybMHGg1AYtHP\",\n",
      "        \"id\" : \"0ZrpamOxcZybMHGg1AYtHP\",\n",
      "        \"name\" : \"Robin Thicke\",\n",
      "        \"type\" : \"artist\",\n",
      "        \"uri\" : \"spotify:artist:0ZrpamOxcZybMHGg1AYtHP\"\n",
      "      } ],\n",
      "      \"available_markets\" : [ \"AD\", \"AE\", \"AG\", \"AL\", \"AM\", \"AO\", \"AR\", \"AT\", \"AU\", \"AZ\", \"BA\", \"BB\", \"BD\", \"BE\", \"BF\", \"BG\", \"BH\", \"BI\", \"BJ\", \"BN\", \"BO\", \"BR\", \"BS\", \"BT\", \"BW\", \"BY\", \"BZ\", \"CA\", \"CD\", \"CG\", \"CH\", \"CI\", \"CL\", \"CM\", \"CO\", \"CR\", \"CV\", \"CW\", \"CY\", \"CZ\", \"DE\", \"DJ\", \"DK\", \"DM\", \"DO\", \"DZ\", \"EC\", \"EE\", \"EG\", \"ES\", \"ET\", \"FI\", \"FJ\", \"FM\", \"FR\", \"GA\", \"GB\", \"GD\", \"GE\", \"GH\", \"GM\", \"GN\", \"GQ\", \"GR\", \"GT\", \"GW\", \"GY\", \"HK\", \"HN\", \"HR\", \"HT\", \"HU\", \"ID\", \"IE\", \"IL\", \"IN\", \"IQ\", \"IS\", \"IT\", \"JM\", \"JO\", \"JP\", \"KE\", \"KG\", \"KH\", \"KI\", \"KM\", \"KN\", \"KR\", \"KW\", \"KZ\", \"LA\", \"LB\", \"LC\", \"LI\", \"LK\", \"LR\", \"LS\", \"LT\", \"LU\", \"LV\", \"LY\", \"MA\", \"MC\", \"MD\", \"ME\", \"MG\", \"MH\", \"MK\", \"ML\", \"MN\", \"MO\", \"MR\", \"MT\", \"MU\", \"MV\", \"MW\", \"MX\", \"MY\", \"MZ\", \"NA\", \"NE\", \"NG\", \"NI\", \"NL\", \"NO\", \"NP\", \"NR\", \"NZ\", \"OM\", \"PA\", \"PE\", \"PG\", \"PH\", \"PK\", \"PL\", \"PS\", \"PT\", \"PW\", \"PY\", \"QA\", \"RO\", \"RS\", \"RW\", \"SA\", \"SB\", \"SC\", \"SE\", \"SG\", \"SI\", \"SK\", \"SL\", \"SM\", \"SN\", \"SR\", \"ST\", \"SV\", \"SZ\", \"TD\", \"TG\", \"TH\", \"TJ\", \"TL\", \"TN\", \"TO\", \"TR\", \"TT\", \"TV\", \"TW\", \"TZ\", \"UA\", \"UG\", \"US\", \"UY\", \"UZ\", \"VC\", \"VE\", \"VN\", \"VU\", \"WS\", \"XK\", \"ZA\", \"ZM\", \"ZW\" ],\n",
      "      \"external_urls\" : {\n",
      "        \"spotify\" : \"https://open.spotify.com/album/2l5jrbQaw9la2srKsDt7D6\"\n",
      "      },\n",
      "      \"href\" : \"https://api.spotify.com/v1/albums/2l5jrbQaw9la2srKsDt7D6\",\n",
      "      \"id\" : \"2l5jrbQaw9la2srKsDt7D6\",\n",
      "      \"images\" : [ {\n",
      "        \"height\" : 640,\n",
      "        \"url\" : \"https://i.scdn.co/image/ab67616d0000b273ae48f835b7f13261cf935a81\",\n",
      "        \"width\" : 640\n",
      "      }, {\n",
      "        \"height\" : 300,\n",
      "        \"url\" : \"https://i.scdn.co/image/ab67616d00001e02ae48f835b7f13261cf935a81\",\n",
      "        \"width\" : 300\n",
      "      }, {\n",
      "        \"height\" : 64,\n",
      "        \"url\" : \"https://i.scdn.co/image/ab67616d00004851ae48f835b7f13261cf935a81\",\n",
      "        \"width\" : 64\n",
      "      } ],\n",
      "      \"name\" : \"Morning Sun\",\n",
      "      \"release_date\" : \"2015-06-29\",\n",
      "      \"release_date_precision\" : \"day\",\n",
      "      \"total_tracks\" : 1,\n",
      "      \"type\" : \"album\",\n",
      "      \"uri\" : \"spotify:album:2l5jrbQaw9la2srKsDt7D6\"\n",
      "    },\n",
      "    \"artists\" : [ {\n",
      "      \"external_urls\" : {\n",
      "        \"spotify\" : \"https://open.spotify.com/artist/0ZrpamOxcZybMHGg1AYtHP\"\n",
      "      },\n",
      "      \"href\" : \"https://api.spotify.com/v1/artists/0ZrpamOxcZybMHGg1AYtHP\",\n",
      "      \"id\" : \"0ZrpamOxcZybMHGg1AYtHP\",\n",
      "      \"name\" : \"Robin Thicke\",\n",
      "      \"type\" : \"artist\",\n",
      "      \"uri\" : \"spotify:artist:0ZrpamOxcZybMHGg1AYtHP\"\n",
      "    } ],\n",
      "    \"available_markets\" : [ \"AR\", \"AU\", \"AT\", \"BE\", \"BO\", \"BR\", \"BG\", \"CA\", \"CL\", \"CO\", \"CR\", \"CY\", \"CZ\", \"DK\", \"DO\", \"DE\", \"EC\", \u001b[0m\n",
      "Thought:\u001b[32;1m\u001b[1;3m I now know the actual song names by artists like Alicia Keys.\n",
      "Final Answer: \"Morning Sun\" by Robin Thicke, \"If I Ain't Got You\" by Alicia Keys, \"No One\" by Alicia Keys, \"Fallin'\" by Alicia Keys, \"You Don't Know My Name\" by Alicia Keys.\u001b[0m\n",
      "\n",
      "\u001b[1m> Finished chain.\u001b[0m\n"
     ]
    }
   ],
   "source": [
    "# agent_executor.run(\"What is the spotify id for the song 'So What'?\")\n",
    "query = \"What's the spotify id for the song 'So What'\"\n",
    "query = \"Uses Spotify's recommend api to find songs by artists like Alicia Keys. Give me actual song names.\"\n",
    "out = agent_executor({'input': query})"
   ]
  },
  {
   "cell_type": "markdown",
   "id": "111548b8",
   "metadata": {},
   "source": [
    "Note, hallucinations in Final Answer... there's pretty minimal prompt engineering here atm tho."
   ]
  },
  {
   "cell_type": "code",
   "execution_count": null,
   "id": "a70fa49e",
   "metadata": {},
   "outputs": [],
   "source": []
  },
  {
   "cell_type": "code",
   "execution_count": null,
   "id": "1f57b145",
   "metadata": {},
   "outputs": [],
   "source": []
  },
  {
   "cell_type": "code",
   "execution_count": null,
   "id": "e80e363b",
   "metadata": {},
   "outputs": [],
   "source": []
  },
  {
   "cell_type": "code",
   "execution_count": null,
   "id": "8a0fec13",
   "metadata": {},
   "outputs": [],
   "source": [
    "# Single-step: should call /search\n",
    "# Demonstrative (no user would ask for a spotify id)\n",
    "query = \"What's the spotify id for the song 'So What'\"\n",
    "desired_output = '4sb0eMpDn3upAFfyi4q2rw'\n",
    "out = agent_executor({'input': query})\n",
    "\n",
    "def _retrieves_search_endpoint(agent_out):\n",
    "    steps = agent_out['intermediate_steps']\n",
    "    for step in steps:\n",
    "        action, observation = step\n",
    "        if action.tool == 'api_endpoint_retriever':\n",
    "            if '/search' in observation:\n",
    "                return True\n",
    "    return False\n",
    "\n",
    "def _calls_search_endpoint(agent_out):\n",
    "    steps = agent_out['intermediate_steps']\n",
    "    for step in steps:\n",
    "        action, observation = step\n",
    "        if action.tool == 'requests_get' and '/search' in action.tool_input:\n",
    "            return True\n",
    "    return False\n",
    "\n",
    "def _check_answer(agent_out):\n",
    "    output = agent_out['output']\n",
    "    if desired_output in output:\n",
    "        return True\n",
    "    return False\n",
    "\n",
    "tests = [_retrieves_search_endpoint, _calls_search_endpoint, _check_answer]\n",
    "for test_fn in tests:\n",
    "    print(test_fn.__name__, test_fn(out))"
   ]
  },
  {
   "cell_type": "code",
   "execution_count": null,
   "id": "e1f11a45",
   "metadata": {},
   "outputs": [],
   "source": [
    "# Single-step: should call /track or /tracks\n",
    "# Demonstrative (no user would have a spotify id)\n",
    "query = \"What's the track name for the song with id 4vLYewWIvqHfKtJDk8c8tq?\"\n",
    "out = agent_executor({'input': query})\n",
    "desired_output = \"So What\"\n",
    "\n",
    "def _retrieves_tracks_endpoint(agent_out):\n",
    "    steps = agent_out['intermediate_steps']\n",
    "    for step in steps:\n",
    "        action, observation = step\n",
    "        if action.tool == 'api_endpoint_retriever':\n",
    "            if '/track' in observation:\n",
    "                return True\n",
    "    return False\n",
    "\n",
    "def _calls_tracks_endpoint(agent_out):\n",
    "    steps = agent_out['intermediate_steps']\n",
    "    for step in steps:\n",
    "        action, observation = step\n",
    "        if action.tool == 'requests_get' and '/track' in action.tool_input:\n",
    "            return True\n",
    "    return False\n",
    "\n",
    "def _check_answer(agent_out):\n",
    "    final_obs = agent_out['intermediate_steps'][-1][1]\n",
    "    output = agent_out['output']\n",
    "    # Verify the answer comes from context...    \n",
    "    if desired_output in final_obs and desired_output in output:\n",
    "        return True\n",
    "    return False\n",
    "\n",
    "tests = [_retrieves_tracks_endpoint, _calls_tracks_endpoint, _check_answer]\n",
    "for test_fn in tests:\n",
    "    print(test_fn.__name__, test_fn(out))"
   ]
  },
  {
   "cell_type": "code",
   "execution_count": null,
   "id": "4a6024dd",
   "metadata": {
    "scrolled": false
   },
   "outputs": [],
   "source": [
    "# Single-step: calls /search\n",
    "# Slightly harder\n",
    "query = \"What artist wrote the song So What\"\n",
    "out = agent_executor({'input': query})\n",
    "desired_output = \"Miles Davis\"\n",
    "\n",
    "def _retrieves_search_endpoint(agent_out):\n",
    "    steps = agent_out['intermediate_steps']\n",
    "    for step in steps:\n",
    "        action, observation = step\n",
    "        if action.tool == 'api_endpoint_retriever':\n",
    "            if '/search' in observation:\n",
    "                return True\n",
    "    return False\n",
    "\n",
    "def _calls_search_endpoint(agent_out):\n",
    "    steps = agent_out['intermediate_steps']\n",
    "    for step in steps:\n",
    "        action, observation = step\n",
    "        if action.tool == 'requests_get' and '/search' in action.tool_input:\n",
    "            return True\n",
    "    return False\n",
    "\n",
    "def _check_answer(agent_out):\n",
    "    final_obs = agent_out['intermediate_steps'][-1][1]\n",
    "    output = agent_out['output']\n",
    "    # Verify the answer comes from context...    \n",
    "    if desired_output in final_obs and desired_output in output:\n",
    "        return True\n",
    "    return False\n",
    "\n",
    "tests = [_retrieves_search_endpoint, _calls_search_endpoint, _check_answer]\n",
    "for test_fn in tests:\n",
    "    print(test_fn.__name__, test_fn(out))"
   ]
  },
  {
   "cell_type": "code",
   "execution_count": null,
   "id": "0dea0522",
   "metadata": {},
   "outputs": [],
   "source": []
  },
  {
   "cell_type": "markdown",
   "id": "d7181c7c",
   "metadata": {},
   "source": [
    "#### The JSON explorer agent"
   ]
  },
  {
   "cell_type": "code",
   "execution_count": null,
   "id": "6e198b1b",
   "metadata": {},
   "outputs": [],
   "source": [
    "\n",
    "from langchain.agents import create_openapi_agent\n",
    "from langchain.agents.agent_toolkits import OpenAPIToolkit\n",
    "from langchain.llms.openai import OpenAI\n",
    "from langchain.requests import RequestsWrapper\n",
    "from langchain.tools.json.tool import JsonSpec\n",
    "\n",
    "json_spec=JsonSpec(dict_=spec, max_value_length=4000)\n",
    "requests_wrapper=RequestsWrapper(headers=headers)\n",
    "openapi_toolkit = OpenAPIToolkit.from_llm(OpenAI(temperature=0), json_spec, requests_wrapper, verbose=True)\n",
    "\n",
    "json_explorer_agent = create_openapi_agent(\n",
    "    llm=OpenAI(temperature=0),\n",
    "    toolkit=openapi_toolkit,\n",
    "    verbose=True\n",
    ")\n",
    "json_explorer_agent.run(\"What is the spotify id for the song 'So What'?\")"
   ]
  }
 ],
 "metadata": {
  "kernelspec": {
   "display_name": "Python 3 (ipykernel)",
   "language": "python",
   "name": "python3"
  },
  "language_info": {
   "codemirror_mode": {
    "name": "ipython",
    "version": 3
   },
   "file_extension": ".py",
   "mimetype": "text/x-python",
   "name": "python",
   "nbconvert_exporter": "python",
   "pygments_lexer": "ipython3",
   "version": "3.9.0"
  }
 },
 "nbformat": 4,
 "nbformat_minor": 5
}
